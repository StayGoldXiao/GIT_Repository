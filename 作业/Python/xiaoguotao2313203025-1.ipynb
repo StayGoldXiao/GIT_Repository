{
 "cells": [
  {
   "cell_type": "markdown",
   "id": "cc28982f",
   "metadata": {},
   "source": [
    "# 班级：23计算机科学与技术（专转本）\n",
    "# 姓名：肖国涛\n",
    "# 学号：2313203025"
   ]
  },
  {
   "cell_type": "markdown",
   "id": "823fa41b",
   "metadata": {},
   "source": [
    "# 1-1"
   ]
  },
  {
   "cell_type": "code",
   "execution_count": 62,
   "id": "58379f6b",
   "metadata": {},
   "outputs": [
    {
     "name": "stdout",
     "output_type": "stream",
     "text": [
      "Hello World!\n"
     ]
    }
   ],
   "source": [
    "print(\"Hello World!\")"
   ]
  },
  {
   "cell_type": "markdown",
   "id": "1d064253",
   "metadata": {},
   "source": [
    "# 1-2"
   ]
  },
  {
   "cell_type": "code",
   "execution_count": 63,
   "id": "fafa21e2",
   "metadata": {},
   "outputs": [
    {
     "name": "stdout",
     "output_type": "stream",
     "text": [
      "请输入您的姓名：肖国涛\n",
      "Hello, 肖国涛\n"
     ]
    }
   ],
   "source": [
    "print(\"Hello,\", input(\"请输入您的姓名：\"))"
   ]
  },
  {
   "cell_type": "markdown",
   "id": "3b2c1324",
   "metadata": {},
   "source": [
    "# 1-3-1"
   ]
  },
  {
   "cell_type": "code",
   "execution_count": 64,
   "id": "ac9e5ebf",
   "metadata": {},
   "outputs": [
    {
     "name": "stdout",
     "output_type": "stream",
     "text": [
      "0 1 2 3 4 5 6 7 8 9 \n"
     ]
    }
   ],
   "source": [
    "for i in range(10):\n",
    "    print(i, end=' ')\n",
    "print()"
   ]
  },
  {
   "cell_type": "markdown",
   "id": "ad065b74",
   "metadata": {},
   "source": [
    "# 1-3-2"
   ]
  },
  {
   "cell_type": "code",
   "execution_count": 65,
   "id": "d59ccafd",
   "metadata": {},
   "outputs": [
    {
     "name": "stdout",
     "output_type": "stream",
     "text": [
      "0,1,2,3,4,5,6,7,8,9,\n"
     ]
    }
   ],
   "source": [
    "for i in range(10):\n",
    "    print(i, end=',')\n",
    "print()"
   ]
  },
  {
   "cell_type": "markdown",
   "id": "28e36a26",
   "metadata": {},
   "source": [
    "# 1-4-1"
   ]
  },
  {
   "cell_type": "code",
   "execution_count": 66,
   "id": "5c2257d5",
   "metadata": {},
   "outputs": [
    {
     "name": "stdout",
     "output_type": "stream",
     "text": [
      "H\n",
      "e\n",
      "l\n",
      "l\n",
      "o\n",
      " \n",
      "W\n",
      "o\n",
      "r\n",
      "l\n",
      "d\n",
      "!\n"
     ]
    }
   ],
   "source": [
    "for i in \"Hello World!\":\n",
    "    print(i)"
   ]
  },
  {
   "cell_type": "markdown",
   "id": "7191933d",
   "metadata": {},
   "source": [
    "# 1-4-2"
   ]
  },
  {
   "cell_type": "code",
   "execution_count": 67,
   "id": "54bf32f7",
   "metadata": {},
   "outputs": [
    {
     "name": "stdout",
     "output_type": "stream",
     "text": [
      "请输入需要竖排输出的字符串：肖国涛\n",
      "肖\n",
      "国\n",
      "涛\n"
     ]
    }
   ],
   "source": [
    "for i in input(\"请输入需要竖排输出的字符串：\"):\n",
    "    print(i)"
   ]
  },
  {
   "cell_type": "markdown",
   "id": "361b5a67",
   "metadata": {},
   "source": [
    "# 1-5-1"
   ]
  },
  {
   "cell_type": "code",
   "execution_count": 68,
   "id": "d4845503",
   "metadata": {},
   "outputs": [
    {
     "name": "stdout",
     "output_type": "stream",
     "text": [
      "A B C D E\n"
     ]
    }
   ],
   "source": [
    "for i in ['A','B','C','D','E']:\n",
    "    if i==\"E\":\n",
    "        print('E')\n",
    "        break\n",
    "    print(i,end=\" \")"
   ]
  },
  {
   "cell_type": "markdown",
   "id": "5a13793b",
   "metadata": {},
   "source": [
    "# 1-5-2"
   ]
  },
  {
   "cell_type": "code",
   "execution_count": 69,
   "id": "3d4e5aa3",
   "metadata": {},
   "outputs": [
    {
     "name": "stdout",
     "output_type": "stream",
     "text": [
      "A,B,C,D,E\n"
     ]
    }
   ],
   "source": [
    "for i in ['A','B','C','D','E']:\n",
    "    if i==\"E\":\n",
    "        print('E')\n",
    "        break\n",
    "    print(i,end=\",\")"
   ]
  },
  {
   "cell_type": "markdown",
   "id": "002a85b1",
   "metadata": {},
   "source": [
    "# 1-5-3"
   ]
  },
  {
   "cell_type": "code",
   "execution_count": 70,
   "id": "d257e100",
   "metadata": {},
   "outputs": [
    {
     "name": "stdout",
     "output_type": "stream",
     "text": [
      "A-B-C-D-E\n"
     ]
    }
   ],
   "source": [
    "for i in ['A','B','C','D','E']:\n",
    "    if i==\"E\":\n",
    "        print('E')\n",
    "        break\n",
    "    print(i,end=\"-\")"
   ]
  },
  {
   "cell_type": "code",
   "execution_count": null,
   "id": "0a59781d",
   "metadata": {},
   "outputs": [],
   "source": []
  }
 ],
 "metadata": {
  "kernelspec": {
   "display_name": "python309",
   "language": "python",
   "name": "python309"
  },
  "language_info": {
   "codemirror_mode": {
    "name": "ipython",
    "version": 3
   },
   "file_extension": ".py",
   "mimetype": "text/x-python",
   "name": "python",
   "nbconvert_exporter": "python",
   "pygments_lexer": "ipython3",
   "version": "3.9.16"
  }
 },
 "nbformat": 4,
 "nbformat_minor": 5
}
